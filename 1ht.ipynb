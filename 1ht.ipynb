{
 "cells": [
  {
   "cell_type": "markdown",
   "metadata": {},
   "source": [
    "# Подключение библиотек"
   ]
  },
  {
   "cell_type": "code",
   "execution_count": 48,
   "metadata": {},
   "outputs": [],
   "source": [
    "import math\n",
    "\n",
    "import numpy as np"
   ]
  },
  {
   "cell_type": "markdown",
   "metadata": {},
   "source": [
    "# Задание 0:"
   ]
  },
  {
   "cell_type": "code",
   "execution_count": null,
   "metadata": {},
   "outputs": [],
   "source": [
    "# task 0.1\n",
    "some_str = \"Quick brown cat jumps over the lazy dog\"\n",
    "a_index  = []\n",
    "\n",
    "for i in range(len(some_str)):\n",
    "    if some_str[i] == \"a\":\n",
    "        a_index.append(i)\n",
    "\n",
    "print(a_index)"
   ]
  },
  {
   "cell_type": "code",
   "execution_count": null,
   "metadata": {},
   "outputs": [],
   "source": [
    "#task 0.2\n",
    "some_str = \"Знаете почему парни, у которых отец из Непала, очень хороши собой? Они все непальцем деланные.\"\n",
    "n_words = []\n",
    "\n",
    "nFlag = False\n",
    "super_i = 0\n",
    "i = 0\n",
    "L = len(some_str)\n",
    "\n",
    "while L != 0:\n",
    "    if ((some_str[i] == \"н\") or (some_str[i] == \"Н\")):\n",
    "        nFlag = True\n",
    "    if ((some_str[i + 1] == \" \") and (nFlag == True)):\n",
    "        i += 1\n",
    "        L -= 1\n",
    "        for j in range(super_i, i):\n",
    "            n_words.append(some_str[j])\n",
    "    i += 1\n",
    "    L -= 1\n",
    "            \n",
    "print(n_words)"
   ]
  },
  {
   "cell_type": "code",
   "execution_count": null,
   "metadata": {},
   "outputs": [],
   "source": [
    "#task 0.3.1\n",
    "\n",
    "rand_list = []\n",
    "\n",
    "for i in range(20):\n",
    "    rand_list.append(np.random.rand())\n",
    "    \n",
    "print(rand_list)\n",
    "\n",
    "#task 0.3.2\n",
    "rand_listV2 = []\n",
    "rand_listV2_ch = []\n",
    "rand_listV2_nch = []\n",
    "\n",
    "for i in range(len(rand_list)):\n",
    "    if (rand_list[i] % 2 == 0):\n",
    "        rand_listV2_ch.append(rand_list[i])\n",
    "    else:\n",
    "        rand_listV2_nch.append(rand_list[i])\n",
    "\n",
    "for i in range(len(rand_listV2_nch)):\n",
    "    rand_listV2.append(rand_listV2_nch[i])\n",
    "for i in range(len(rand_listV2_ch)):\n",
    "    rand_listV2.append(rand_listV2_ch[i])\n",
    "    \n",
    "print(rand_listV2)"
   ]
  },
  {
   "cell_type": "code",
   "execution_count": null,
   "metadata": {},
   "outputs": [],
   "source": [
    "#task 0.4"
   ]
  },
  {
   "cell_type": "code",
   "execution_count": null,
   "metadata": {},
   "outputs": [],
   "source": [
    "#task 0.5"
   ]
  },
  {
   "cell_type": "code",
   "execution_count": null,
   "metadata": {},
   "outputs": [],
   "source": [
    "#task 0.6"
   ]
  },
  {
   "cell_type": "code",
   "execution_count": null,
   "metadata": {},
   "outputs": [],
   "source": [
    "#task 0.7"
   ]
  },
  {
   "cell_type": "code",
   "execution_count": null,
   "metadata": {},
   "outputs": [],
   "source": [
    "#task 0.8"
   ]
  },
  {
   "cell_type": "code",
   "execution_count": null,
   "metadata": {},
   "outputs": [],
   "source": [
    "#task 0.9"
   ]
  },
  {
   "cell_type": "markdown",
   "metadata": {},
   "source": [
    "# Задание 1"
   ]
  },
  {
   "cell_type": "code",
   "execution_count": null,
   "metadata": {},
   "outputs": [],
   "source": [
    "def laziness(some_set):\n",
    "    return some_set\n",
    "\n",
    "def matrix_init(n, mapping):\n",
    "    #T0D0:\n",
    "    return a\n",
    "\n",
    "def relation_init():\n",
    "    #T0D0\n",
    "    return a\n",
    "\n",
    "def IsRefl(a):\n",
    "    #T0D0\n",
    "    return a\n",
    "\n",
    "def IsSymm(a):\n",
    "    #T0D0\n",
    "    return a\n",
    "\n",
    "def IsTran(a):\n",
    "    #T0D0\n",
    "    return a\n",
    "\n",
    "def classifier(a):\n",
    "    if (IsRefl(a) and IsTran(a)):\n",
    "        print(\"\")\n",
    "    if (IsRefl(a) and IsSymm(a) and IsTran(a)):\n",
    "        print(\"\")\n",
    "    if (IsRefl(a) and not(IsSymm(a)) and IsTran(a)):\n",
    "        print(\"\")\n",
    "    if (not(IsRefl(a)) and not(IsSymm(a)) and IsTran(a)):\n",
    "        print(\"\")\n",
    "\n",
    "some_set = [1, 2, 3, 4, 5]\n",
    "\n",
    "mapping = [(1, 1), (2, 2), (3, 3), (4, 4), (5, 5)]\n",
    "\n",
    "a = matrix_init(len(some_set), mapping)"
   ]
  },
  {
   "cell_type": "markdown",
   "metadata": {},
   "source": [
    "# Задание 2"
   ]
  },
  {
   "cell_type": "code",
   "execution_count": null,
   "metadata": {},
   "outputs": [],
   "source": []
  },
  {
   "cell_type": "markdown",
   "metadata": {},
   "source": [
    "# Задание 3"
   ]
  },
  {
   "cell_type": "code",
   "execution_count": null,
   "metadata": {},
   "outputs": [],
   "source": []
  },
  {
   "cell_type": "markdown",
   "metadata": {},
   "source": [
    "# Задание 4"
   ]
  },
  {
   "cell_type": "code",
   "execution_count": null,
   "metadata": {},
   "outputs": [],
   "source": [
    "#task 4.1\n",
    "def MaxCountValue(z):\n",
    "    max_count_value = 0\n",
    "    max_count = 0\n",
    "    count = 0\n",
    "    \n",
    "    for i in range(1,len(z)):\n",
    "        if (z[i] == z[i - 1]):\n",
    "            count += 1\n",
    "            if max_count > count:\n",
    "                max_count = count\n",
    "                max_count_value = z[i - 1]\n",
    "        else:\n",
    "            count = 0\n",
    "    print(max_count)\n",
    "    return max_count_value\n",
    "    \n",
    "\n",
    "z = np.random.randint(0, 10, 50)\n",
    "\n",
    "z.sort()\n",
    "\n",
    "print(MaxCountValue(z))"
   ]
  },
  {
   "cell_type": "code",
   "execution_count": null,
   "metadata": {},
   "outputs": [],
   "source": [
    "#task 4.2\n",
    "def NMaxValues(n, z):\n",
    "    MaxValues = []\n",
    "    count = 0\n",
    "    \n",
    "    for i in range(len(z) - 1, 0, -1):\n",
    "        if (z[i] != z[i + 1]):\n",
    "            MaxValues.append(z[i])\n",
    "            count += 1\n",
    "        if count == 5:\n",
    "            break\n",
    "    \n",
    "    for i in range(len(MaxValues)):\n",
    "        print(MaxValues[i])\n",
    "\n",
    "z = np.arange(5000)\n",
    "np.random.shuffle(z)\n",
    "n = 5\n",
    "\n",
    "z.sort()\n",
    "\n",
    "print(NMaxValues(n, z))"
   ]
  },
  {
   "cell_type": "code",
   "execution_count": null,
   "metadata": {},
   "outputs": [],
   "source": [
    "#task 4.3\n",
    "def cartesian(arrays):\n",
    "    rez = []\n",
    "    #code here\n",
    "    return rez\n",
    "    \n",
    "print(cartesian(([1, 2, 3], [4, 5])))"
   ]
  }
 ],
 "metadata": {
  "kernelspec": {
   "display_name": "Python 3 (ipykernel)",
   "language": "python",
   "name": "python3"
  },
  "language_info": {
   "codemirror_mode": {
    "name": "ipython",
    "version": 3
   },
   "file_extension": ".py",
   "mimetype": "text/x-python",
   "name": "python",
   "nbconvert_exporter": "python",
   "pygments_lexer": "ipython3",
   "version": "3.9.13"
  },
  "vscode": {
   "interpreter": {
    "hash": "e7370f93d1d0cde622a1f8e1c04877d8463912d04d973331ad4851f04de6915a"
   }
  }
 },
 "nbformat": 4,
 "nbformat_minor": 2
}
